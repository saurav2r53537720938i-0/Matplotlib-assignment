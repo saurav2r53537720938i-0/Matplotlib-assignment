{
 "cells": [
  {
   "cell_type": "markdown",
   "id": "24cf941e-c77b-458d-9b78-c26de4f86f9f",
   "metadata": {},
   "source": [
    "MetaPlotLive is not a widely reconiszed term in the context of python plotting libaries.However,it seemsto refer to a real-time plotting capability within the MetaPlot libary or a similar package.Real-time plotting is often used in applications where data is continously streaming or updating, and it's important to visualize the changes as they occur\n",
    "\n",
    "there are five common type of plots that can be created:\n",
    "1. Line plot\n",
    "2. Scatter plot\n",
    "3. Bar plot\n",
    "4. Histogram\n",
    "5. Pie chart"
   ]
  },
  {
   "cell_type": "code",
   "execution_count": 1,
   "id": "1cd61f95-020a-4352-bec6-36a14d7c62c7",
   "metadata": {},
   "outputs": [
    {
     "ename": "ModuleNotFoundError",
     "evalue": "No module named 'matplotilib'",
     "output_type": "error",
     "traceback": [
      "\u001b[0;31m---------------------------------------------------------------------------\u001b[0m",
      "\u001b[0;31mModuleNotFoundError\u001b[0m                       Traceback (most recent call last)",
      "Cell \u001b[0;32mIn[1], line 2\u001b[0m\n\u001b[1;32m      1\u001b[0m \u001b[38;5;28;01mimport\u001b[39;00m \u001b[38;5;21;01mnumpy\u001b[39;00m \u001b[38;5;28;01mas\u001b[39;00m \u001b[38;5;21;01mnp\u001b[39;00m\n\u001b[0;32m----> 2\u001b[0m \u001b[38;5;28;01mimport\u001b[39;00m \u001b[38;5;21;01mmatplotilib\u001b[39;00m\u001b[38;5;21;01m.\u001b[39;00m\u001b[38;5;21;01mpyplot\u001b[39;00m \u001b[38;5;28;01mas\u001b[39;00m \u001b[38;5;21;01mplt\u001b[39;00m\n\u001b[1;32m      4\u001b[0m \u001b[38;5;66;03m# Set random seed for reproduciblity\u001b[39;00m\n\u001b[1;32m      5\u001b[0m np\u001b[38;5;241m.\u001b[39mrandom\u001b[38;5;241m.\u001b[39mseed(\u001b[38;5;241m3\u001b[39m)\n",
      "\u001b[0;31mModuleNotFoundError\u001b[0m: No module named 'matplotilib'"
     ]
    }
   ],
   "source": [
    "import numpy as np\n",
    "import matplotilib.pyplot as plt\n",
    "\n",
    "# Set random seed for reproduciblity\n",
    "np.random.seed(3)\n",
    "\n",
    "# Generate data for x and y\n",
    "x = 3+np.random.normal(0,2,50)\n",
    "y = 3+np.random.normal(0,2,len(x))\n",
    "\n",
    "# Plot scatterplot\n",
    "plt.scatter(x,y)\n",
    "\n",
    "# Add titles and labels\n",
    "plt.title('Scatterplot')\n",
    "plt.xlabel('X Level')\n",
    "plt.ylabel('Y level')\n",
    "\n",
    "# Show plot\n",
    "plt.show()"
   ]
  },
  {
   "cell_type": "markdown",
   "id": "2898d484-f2e4-4c40-86cf-9a67b02bad24",
   "metadata": {},
   "source": [
    "import numpy as np\n",
    "import matplotlib.pyplot as plt\n",
    "\n",
    "# Data for line 1\n",
    "x1 = np.array([0,1,2,3,4,5])\n",
    "y1 = np.array([0,100,200,300,400,500])\n",
    "\n",
    "# Data for line 2\n",
    "x2 = np.array([0,1,2,3,4,5])\n",
    "y2 = np.array([50,20,40,20,60,70])\n",
    "\n",
    "# Data for line 3\n",
    "x3 = np.array([0,1,2,3,4,5])\n",
    "y3 = np.array([10,20,30,40,50,60])\n",
    "\n",
    "# Data for line 4\n",
    "x4 = np.array([0,1,2,3,4,5])\n",
    "y4 = np.array([200,300,350,250,550,450,150])\n",
    "\n",
    "# Create subplot grid with 2 rows and 2 columns\n",
    "plt.figure(figsize=(10,8))\n",
    "\n",
    "# plot line 1\n",
    "plt.subplot(2,2,1)\n",
    "plt.plot(x1,y1)\n",
    "plt.title('Line 1')"
   ]
  },
  {
   "cell_type": "markdown",
   "id": "ee1dddad-cbf0-47f9-a3a8-bb71d3d91044",
   "metadata": {},
   "source": [
    "A bar plot is a type plot that prsent categorical data with reactangulars bars where the length of each bar  reprsent the value of the data"
   ]
  },
  {
   "cell_type": "code",
   "execution_count": 4,
   "id": "e8291f04-b052-4a92-ba04-6622e6cd98d1",
   "metadata": {},
   "outputs": [
    {
     "ename": "SyntaxError",
     "evalue": "unterminated string literal (detected at line 13) (1548458329.py, line 13)",
     "output_type": "error",
     "traceback": [
      "\u001b[0;36m  Cell \u001b[0;32mIn[4], line 13\u001b[0;36m\u001b[0m\n\u001b[0;31m    plt.title('profit by company\u001b[0m\n\u001b[0m              ^\u001b[0m\n\u001b[0;31mSyntaxError\u001b[0m\u001b[0;31m:\u001b[0m unterminated string literal (detected at line 13)\n"
     ]
    }
   ],
   "source": [
    "import numpy as np\n",
    "import matplotlib.pyplot as plt\n",
    "\n",
    "# Data\n",
    "companies = np.array(['Apple','Micrsoft','google','AMD'])\n",
    "profits = np.array([3000,8000,1000,10000])\n",
    "\n",
    "# Verical bar plot\n",
    "plt.figure(figsize=(8,6))\n",
    "plt.bar(companies,profits,color='skyblue')\n",
    "plt.xlabel('company')\n",
    "plt.ylabel('profit')\n",
    "plt.title('profit by company\n",
    "          (vertical Bar plot)')\n",
    "plt.show()\n",
    "          \n",
    "# Horizontal bar plot\n",
    "plt.figure(figsize=(8,6))\n",
    "plt.bar(companies,profits,color='lightgreen')\n",
    "plt.xlabel('profit')\n",
    "plt.ylabel('company')\n",
    "plt.title('profit by company\n",
    "          (horizontal Bar plot)')\n",
    "plt.show()\n",
    "          "
   ]
  },
  {
   "cell_type": "markdown",
   "id": "eb998dff-a08d-4153-8dec-4e3aeeff44ee",
   "metadata": {},
   "source": [
    "A box plot also known as a box-"
   ]
  }
 ],
 "metadata": {
  "kernelspec": {
   "display_name": "Python 3 (ipykernel)",
   "language": "python",
   "name": "python3"
  },
  "language_info": {
   "codemirror_mode": {
    "name": "ipython",
    "version": 3
   },
   "file_extension": ".py",
   "mimetype": "text/x-python",
   "name": "python",
   "nbconvert_exporter": "python",
   "pygments_lexer": "ipython3",
   "version": "3.10.8"
  }
 },
 "nbformat": 4,
 "nbformat_minor": 5
}
